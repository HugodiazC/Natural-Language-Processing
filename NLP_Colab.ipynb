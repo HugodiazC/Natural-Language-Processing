{
  "nbformat": 4,
  "nbformat_minor": 0,
  "metadata": {
    "colab": {
      "name": "NLP.ipynb",
      "provenance": [],
      "collapsed_sections": [],
      "mount_file_id": "1H-sp31aKtnHrgqyOS7tJbWzGjJrlxXBq",
      "authorship_tag": "ABX9TyPecelUxSBl88xuGIvbvQAJ",
      "include_colab_link": true
    },
    "kernelspec": {
      "name": "python3",
      "display_name": "Python 3"
    }
  },
  "cells": [
    {
      "cell_type": "markdown",
      "metadata": {
        "id": "view-in-github",
        "colab_type": "text"
      },
      "source": [
        "<a href=\"https://colab.research.google.com/github/HugodiazC/Natural-Language-Processing/blob/main/NLP_Colab.ipynb\" target=\"_parent\"><img src=\"https://colab.research.google.com/assets/colab-badge.svg\" alt=\"Open In Colab\"/></a>"
      ]
    },
    {
      "cell_type": "markdown",
      "metadata": {
        "id": "nZUSgNVJrJEf"
      },
      "source": [
        "#**¡Bienvenidos a esta clase de procesamiento de lenguaje natural!**\r\n",
        "## **Introducción**\r\n",
        "\r\n",
        "Este notebook nos da una guía paso a paso para aprender a realizar procesamiento de lenguaje. El Procesamiento del Lenguaje Natural es un campo de la Inteligencia Artificial que se ocupa de la investigar la manera de comunicar las máquinas con las personas utilizando las lenguas de uso común. \r\n",
        "\r\n",
        "En este notebook aprenderemos algunos pasos importantes para todo procesamiento de información:\r\n",
        "\r\n",
        "**1- Obtener la información**\r\n",
        "\r\n",
        "**2- Limpiar la información**\r\n",
        "\r\n",
        "**3- Ordenar la información** \r\n",
        "\r\n",
        "El Output del primer día de trabajo será: \r\n",
        "\r\n",
        "**Corpus**: una colección de texto\r\n",
        "\r\n",
        "**Document-Term Matrix**: recuento de palabras en formato matricial\r\n",
        "\r\n",
        "\r\n",
        "\r\n"
      ]
    },
    {
      "cell_type": "markdown",
      "metadata": {
        "id": "dsYA6o-eyemn"
      },
      "source": [
        "Primero tenemos que importar las librerías que utilizaremos para correr el código. **Una librería** no es más que una serie de código de programación, un conjunto de código que alguien ha hecho para que tú puedes reutilizar dentro de tus proyectos.\r\n"
      ]
    },
    {
      "cell_type": "code",
      "metadata": {
        "id": "dLwAoTmgray-"
      },
      "source": [
        "# Empezaremos importanto las librerías para la organización y limpieza de datos\r\n",
        "import os\r\n",
        "import pandas as pd #Esta es de las librerías más famosas y útiles para la organización de data. \r\n",
        "import re\r\n",
        "import string\r\n",
        "import pickle"
      ],
      "execution_count": null,
      "outputs": []
    },
    {
      "cell_type": "markdown",
      "metadata": {
        "id": "mBb5XAZmoH0w"
      },
      "source": [
        "Generar data set con Pandas\r\n"
      ]
    },
    {
      "cell_type": "code",
      "metadata": {
        "id": "mzf5lQl_m1yE"
      },
      "source": [
        "tweet_text = pd.DataFrame(data=users_locs, \r\n",
        "                    columns=['user', \"location\"])\r\n",
        "tweet_text\r\n",
        "tweet_text['Tweets']=text_PRINT\r\n",
        "\r\n"
      ],
      "execution_count": null,
      "outputs": []
    },
    {
      "cell_type": "markdown",
      "metadata": {
        "id": "rHoGioJ8rCrA"
      },
      "source": [
        "Limpieza del Dataset"
      ]
    },
    {
      "cell_type": "code",
      "metadata": {
        "id": "A8icbeZpoTkn"
      },
      "source": [
        "def clean_text_round1(text):\r\n",
        "    '''Make text lowercase, remove text in square brackets, remove punctuation and remove words containing numbers.'''\r\n",
        "    text = text.lower()\r\n",
        "    text = re.sub('\\[.*?\\]', '', text)\r\n",
        "    text = re.sub('[%s]' % re.escape(string.punctuation), '', text)\r\n",
        "    text = re.sub('\\w*\\d\\w*', '', text)\r\n",
        "    return text\r\n",
        "\r\n",
        "round1 = lambda text_PRINT: clean_text_round1(text_PRINT)\r\n",
        "\r\n",
        "def clean_text_round2(text):\r\n",
        "    '''Get rid of some additional punctuation and non-sensical text that was missed the first time around.'''\r\n",
        "    text = re.sub('[‘’“”…]', '', text)\r\n",
        "    text = re.sub('\\n', '', text)\r\n",
        "    return text\r\n",
        "\r\n",
        "round2 = lambda text_PRINT: clean_text_round2(text_PRINT)\r\n",
        "\r\n",
        "tweet_text['Tweets']=text_PRINT"
      ],
      "execution_count": null,
      "outputs": []
    }
  ]
}